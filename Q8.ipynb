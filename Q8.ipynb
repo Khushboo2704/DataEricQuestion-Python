{
 "cells": [
  {
   "cell_type": "raw",
   "metadata": {},
   "source": [
    "Python Data Structures Arrays\n",
    "Given two arrays, write a function in vanilla Python (e.g., no libraries) to check whether or not the arrays are equal. You can consider the two arrays equal if both of them contain the same set of elements - the order of elements can differ."
   ]
  },
  {
   "cell_type": "code",
   "execution_count": 5,
   "metadata": {},
   "outputs": [],
   "source": [
    "a1 = [1,5,6,7,8,0]\n",
    "a2 = [5,6,7,8,0,1]\n",
    "n = len(a1); \n",
    "m = len(a2); "
   ]
  },
  {
   "cell_type": "code",
   "execution_count": 7,
   "metadata": {},
   "outputs": [
    {
     "name": "stdout",
     "output_type": "stream",
     "text": [
      "Yes\n"
     ]
    }
   ],
   "source": [
    "def ArrEqual(a1, a2, n, m): \n",
    "    if (n != m):\n",
    "        return False; \n",
    "\n",
    "    a1.sort(); \n",
    "    a2.sort(); \n",
    "  \n",
    "    for i in range(0, n - 1): \n",
    "        if (a1[i] != a2[i]): \n",
    "            return False;  \n",
    "    return True;\n",
    "\n",
    "if (ArrEqual(a1, a2, n, m)): \n",
    "    print(\"Yes\"); \n",
    "else: \n",
    "    print(\"No\");\n"
   ]
  },
  {
   "cell_type": "code",
   "execution_count": null,
   "metadata": {},
   "outputs": [],
   "source": []
  }
 ],
 "metadata": {
  "kernelspec": {
   "display_name": "Python 3",
   "language": "python",
   "name": "python3"
  },
  "language_info": {
   "codemirror_mode": {
    "name": "ipython",
    "version": 3
   },
   "file_extension": ".py",
   "mimetype": "text/x-python",
   "name": "python",
   "nbconvert_exporter": "python",
   "pygments_lexer": "ipython3",
   "version": "3.7.6"
  }
 },
 "nbformat": 4,
 "nbformat_minor": 4
}
