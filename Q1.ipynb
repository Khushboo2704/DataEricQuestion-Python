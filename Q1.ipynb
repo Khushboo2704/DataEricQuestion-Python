{
 "cells": [
  {
   "cell_type": "raw",
   "metadata": {},
   "source": [
    "Calculating earnings with Python\n",
    "Python Algorithms\n",
    "Suppose an individual is taxed 30% if earnings for a given week are > = $2,000. If earnings land < $2,000 for the week, the individual is taxed at a lower rate of 15%.\n",
    "\n",
    "Write a function using Python to calculate both the pre-tax and post-tax earnings for a given individual, with the ability to feed in the hourly wage and the weekly hours as inputs.\n",
    "\n",
    "For example, if an individual earns $55/hour and works for 40 hours, the function should return:\n",
    "\n",
    "Pre-tax earnings were 55*40 = $2,200 for the week.\n",
    "Post-tax earnings were $2,200*.7 (since we fall in higher tax bracket here) = $1,540 for the week\n",
    "Solution will be provided in Python to premium users."
   ]
  },
  {
   "cell_type": "code",
   "execution_count": 6,
   "metadata": {},
   "outputs": [],
   "source": [
    "def IHSalary():\n",
    "    No_hours = input(\"How many hours do you work?\");\n",
    "    HourlyWage = input(\"How much is your hourly Wage?\");\n",
    "    postTaxEarning = 0;\n",
    "    \n",
    "    preTaxEarning = int(No_hours) * int(HourlyWage);\n",
    "    \n",
    "    if preTaxEarning >= 2000:\n",
    "        #print('If')\n",
    "        postTaxEarning = preTaxEarning*0.7\n",
    "    else:\n",
    "        #print('Else')\n",
    "        postTaxEarning = preTaxEarning*0.85\n",
    "\n",
    "    \n",
    "    print(\"Your Pre Tax Earning is -\" , preTaxEarning)\n",
    "    print(\"Your Post Tax Earning is -\" , postTaxEarning)\n",
    "     \n",
    "    "
   ]
  },
  {
   "cell_type": "code",
   "execution_count": 7,
   "metadata": {},
   "outputs": [
    {
     "name": "stdout",
     "output_type": "stream",
     "text": [
      "How many hours do you work?40\n",
      "How much is your hourly Wage?55\n",
      "Your Pre Tax Earning is - 2200\n",
      "Your Post Tax Earning is - 1540.0\n"
     ]
    }
   ],
   "source": [
    "IHSalary()"
   ]
  },
  {
   "cell_type": "code",
   "execution_count": null,
   "metadata": {},
   "outputs": [],
   "source": []
  }
 ],
 "metadata": {
  "kernelspec": {
   "display_name": "Python 3",
   "language": "python",
   "name": "python3"
  },
  "language_info": {
   "codemirror_mode": {
    "name": "ipython",
    "version": 3
   },
   "file_extension": ".py",
   "mimetype": "text/x-python",
   "name": "python",
   "nbconvert_exporter": "python",
   "pygments_lexer": "ipython3",
   "version": "3.7.6"
  }
 },
 "nbformat": 4,
 "nbformat_minor": 4
}
