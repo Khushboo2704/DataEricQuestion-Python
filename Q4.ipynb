{
 "cells": [
  {
   "cell_type": "raw",
   "metadata": {},
   "source": [
    "cleaning the data and intro EDA\n",
    "Data Analysis Python Pandas Data Manipulation Data Visualization External Dataset\n",
    "The following dataset contains information on loans. Can you do the following to prepare the dataset for analysis?\n",
    "\n",
    "Create a new column called \"loan_status_type\" which will categorize \"loan_status\" into the following:\n",
    "Current - loans currently outstanding\n",
    "Closed - loans that are no longer open\n",
    "Create a new column called \"loan_status_standing\" which will categorize \"loan_status\" into the following:\n",
    "Good - customers who have (so far) successfully met the condition of their loan (e.g. no missed payments, no late fees accumulated)\n",
    "Bad - customers who have missed payments / defaulted\n",
    "With these 2 new columns, can you plot the month and year the loan was issued and the sum of the loan amounts by loan_status_type and loan_status_contract?"
   ]
  },
  {
   "cell_type": "code",
   "execution_count": 1,
   "metadata": {},
   "outputs": [],
   "source": [
    "import numpy as np\n",
    "import pandas as pd\n",
    "import datetime as dt\n",
    "import seaborn as sns\n",
    "import matplotlib.pyplot as plt"
   ]
  },
  {
   "cell_type": "code",
   "execution_count": 2,
   "metadata": {},
   "outputs": [
    {
     "name": "stderr",
     "output_type": "stream",
     "text": [
      "E:\\Anaonda\\lib\\site-packages\\IPython\\core\\interactiveshell.py:3063: DtypeWarning: Columns (6) have mixed types.Specify dtype option on import or set low_memory=False.\n",
      "  interactivity=interactivity, compiler=compiler, result=result)\n"
     ]
    }
   ],
   "source": [
    "df = pd.read_csv('E:\\DATA SCI AND ML\\\\trunc_loan.csv')"
   ]
  },
  {
   "cell_type": "code",
   "execution_count": 3,
   "metadata": {},
   "outputs": [
    {
     "data": {
      "text/html": [
       "<div>\n",
       "<style scoped>\n",
       "    .dataframe tbody tr th:only-of-type {\n",
       "        vertical-align: middle;\n",
       "    }\n",
       "\n",
       "    .dataframe tbody tr th {\n",
       "        vertical-align: top;\n",
       "    }\n",
       "\n",
       "    .dataframe thead th {\n",
       "        text-align: right;\n",
       "    }\n",
       "</style>\n",
       "<table border=\"1\" class=\"dataframe\">\n",
       "  <thead>\n",
       "    <tr style=\"text-align: right;\">\n",
       "      <th></th>\n",
       "      <th>Unnamed: 0</th>\n",
       "      <th>addr_state</th>\n",
       "      <th>annual_inc</th>\n",
       "      <th>collection_recovery_fee</th>\n",
       "      <th>collections_12_mths_ex_med</th>\n",
       "      <th>delinq_2yrs</th>\n",
       "      <th>desc</th>\n",
       "      <th>dti</th>\n",
       "      <th>earliest_cr_line</th>\n",
       "      <th>emp_length</th>\n",
       "      <th>...</th>\n",
       "      <th>sub_grade</th>\n",
       "      <th>term</th>\n",
       "      <th>title</th>\n",
       "      <th>total_acc</th>\n",
       "      <th>total_pymnt</th>\n",
       "      <th>total_pymnt_inv</th>\n",
       "      <th>total_rec_int</th>\n",
       "      <th>total_rec_late_fee</th>\n",
       "      <th>total_rec_prncp</th>\n",
       "      <th>url</th>\n",
       "    </tr>\n",
       "  </thead>\n",
       "  <tbody>\n",
       "    <tr>\n",
       "      <th>0</th>\n",
       "      <td>495242</td>\n",
       "      <td>IL</td>\n",
       "      <td>95000.0</td>\n",
       "      <td>0.0000</td>\n",
       "      <td>0.0</td>\n",
       "      <td>0.0</td>\n",
       "      <td>0</td>\n",
       "      <td>10.30</td>\n",
       "      <td>May-1993</td>\n",
       "      <td>4 years</td>\n",
       "      <td>...</td>\n",
       "      <td>C1</td>\n",
       "      <td>36 months</td>\n",
       "      <td>Debt consolidation</td>\n",
       "      <td>30.0</td>\n",
       "      <td>7521.680000</td>\n",
       "      <td>7521.68</td>\n",
       "      <td>1585.34</td>\n",
       "      <td>0.0</td>\n",
       "      <td>5936.34</td>\n",
       "      <td>0.0</td>\n",
       "    </tr>\n",
       "    <tr>\n",
       "      <th>1</th>\n",
       "      <td>495243</td>\n",
       "      <td>TX</td>\n",
       "      <td>66000.0</td>\n",
       "      <td>236.3598</td>\n",
       "      <td>0.0</td>\n",
       "      <td>2.0</td>\n",
       "      <td>0</td>\n",
       "      <td>12.62</td>\n",
       "      <td>Dec-2008</td>\n",
       "      <td>1 year</td>\n",
       "      <td>...</td>\n",
       "      <td>D2</td>\n",
       "      <td>60 months</td>\n",
       "      <td>Medical expenses</td>\n",
       "      <td>25.0</td>\n",
       "      <td>7366.250000</td>\n",
       "      <td>7366.25</td>\n",
       "      <td>3341.65</td>\n",
       "      <td>0.0</td>\n",
       "      <td>2711.49</td>\n",
       "      <td>0.0</td>\n",
       "    </tr>\n",
       "    <tr>\n",
       "      <th>2</th>\n",
       "      <td>495244</td>\n",
       "      <td>FL</td>\n",
       "      <td>137500.0</td>\n",
       "      <td>0.0000</td>\n",
       "      <td>0.0</td>\n",
       "      <td>0.0</td>\n",
       "      <td>0</td>\n",
       "      <td>13.42</td>\n",
       "      <td>May-2002</td>\n",
       "      <td>10+ years</td>\n",
       "      <td>...</td>\n",
       "      <td>A5</td>\n",
       "      <td>36 months</td>\n",
       "      <td>Debt consolidation</td>\n",
       "      <td>37.0</td>\n",
       "      <td>10962.479076</td>\n",
       "      <td>10962.48</td>\n",
       "      <td>962.48</td>\n",
       "      <td>0.0</td>\n",
       "      <td>10000.00</td>\n",
       "      <td>0.0</td>\n",
       "    </tr>\n",
       "    <tr>\n",
       "      <th>3</th>\n",
       "      <td>495245</td>\n",
       "      <td>CA</td>\n",
       "      <td>65000.0</td>\n",
       "      <td>0.0000</td>\n",
       "      <td>0.0</td>\n",
       "      <td>0.0</td>\n",
       "      <td>0</td>\n",
       "      <td>11.71</td>\n",
       "      <td>Nov-1992</td>\n",
       "      <td>10+ years</td>\n",
       "      <td>...</td>\n",
       "      <td>D5</td>\n",
       "      <td>60 months</td>\n",
       "      <td>Credit card refinancing</td>\n",
       "      <td>34.0</td>\n",
       "      <td>35770.812746</td>\n",
       "      <td>35770.81</td>\n",
       "      <td>3570.81</td>\n",
       "      <td>0.0</td>\n",
       "      <td>32200.00</td>\n",
       "      <td>0.0</td>\n",
       "    </tr>\n",
       "    <tr>\n",
       "      <th>4</th>\n",
       "      <td>495246</td>\n",
       "      <td>OR</td>\n",
       "      <td>35000.0</td>\n",
       "      <td>0.0000</td>\n",
       "      <td>0.0</td>\n",
       "      <td>0.0</td>\n",
       "      <td>0</td>\n",
       "      <td>6.73</td>\n",
       "      <td>Sep-2009</td>\n",
       "      <td>3 years</td>\n",
       "      <td>...</td>\n",
       "      <td>B1</td>\n",
       "      <td>36 months</td>\n",
       "      <td>Moving and relocation</td>\n",
       "      <td>24.0</td>\n",
       "      <td>2662.590238</td>\n",
       "      <td>2662.59</td>\n",
       "      <td>62.59</td>\n",
       "      <td>0.0</td>\n",
       "      <td>2600.00</td>\n",
       "      <td>0.0</td>\n",
       "    </tr>\n",
       "  </tbody>\n",
       "</table>\n",
       "<p>5 rows × 51 columns</p>\n",
       "</div>"
      ],
      "text/plain": [
       "   Unnamed: 0 addr_state  annual_inc  collection_recovery_fee  \\\n",
       "0      495242         IL     95000.0                   0.0000   \n",
       "1      495243         TX     66000.0                 236.3598   \n",
       "2      495244         FL    137500.0                   0.0000   \n",
       "3      495245         CA     65000.0                   0.0000   \n",
       "4      495246         OR     35000.0                   0.0000   \n",
       "\n",
       "   collections_12_mths_ex_med  delinq_2yrs desc    dti earliest_cr_line  \\\n",
       "0                         0.0          0.0    0  10.30         May-1993   \n",
       "1                         0.0          2.0    0  12.62         Dec-2008   \n",
       "2                         0.0          0.0    0  13.42         May-2002   \n",
       "3                         0.0          0.0    0  11.71         Nov-1992   \n",
       "4                         0.0          0.0    0   6.73         Sep-2009   \n",
       "\n",
       "  emp_length  ... sub_grade        term                    title total_acc  \\\n",
       "0    4 years  ...        C1   36 months       Debt consolidation      30.0   \n",
       "1     1 year  ...        D2   60 months         Medical expenses      25.0   \n",
       "2  10+ years  ...        A5   36 months       Debt consolidation      37.0   \n",
       "3  10+ years  ...        D5   60 months  Credit card refinancing      34.0   \n",
       "4    3 years  ...        B1   36 months    Moving and relocation      24.0   \n",
       "\n",
       "    total_pymnt  total_pymnt_inv total_rec_int  total_rec_late_fee  \\\n",
       "0   7521.680000          7521.68       1585.34                 0.0   \n",
       "1   7366.250000          7366.25       3341.65                 0.0   \n",
       "2  10962.479076         10962.48        962.48                 0.0   \n",
       "3  35770.812746         35770.81       3570.81                 0.0   \n",
       "4   2662.590238          2662.59         62.59                 0.0   \n",
       "\n",
       "   total_rec_prncp  url  \n",
       "0          5936.34  0.0  \n",
       "1          2711.49  0.0  \n",
       "2         10000.00  0.0  \n",
       "3         32200.00  0.0  \n",
       "4          2600.00  0.0  \n",
       "\n",
       "[5 rows x 51 columns]"
      ]
     },
     "execution_count": 3,
     "metadata": {},
     "output_type": "execute_result"
    }
   ],
   "source": [
    "df.head()"
   ]
  },
  {
   "cell_type": "code",
   "execution_count": 4,
   "metadata": {},
   "outputs": [
    {
     "name": "stdout",
     "output_type": "stream",
     "text": [
      "<class 'pandas.core.frame.DataFrame'>\n",
      "RangeIndex: 855502 entries, 0 to 855501\n",
      "Data columns (total 51 columns):\n",
      " #   Column                       Non-Null Count   Dtype  \n",
      "---  ------                       --------------   -----  \n",
      " 0   Unnamed: 0                   855502 non-null  int64  \n",
      " 1   addr_state                   855502 non-null  object \n",
      " 2   annual_inc                   855502 non-null  float64\n",
      " 3   collection_recovery_fee      855502 non-null  float64\n",
      " 4   collections_12_mths_ex_med   855502 non-null  float64\n",
      " 5   delinq_2yrs                  855502 non-null  float64\n",
      " 6   desc                         855502 non-null  object \n",
      " 7   dti                          855502 non-null  float64\n",
      " 8   earliest_cr_line             855502 non-null  object \n",
      " 9   emp_length                   855502 non-null  object \n",
      " 10  emp_title                    855502 non-null  object \n",
      " 11  funded_amnt                  855502 non-null  int64  \n",
      " 12  funded_amnt_inv              855502 non-null  float64\n",
      " 13  grade                        855502 non-null  object \n",
      " 14  home_ownership               855502 non-null  object \n",
      " 15  id                           855502 non-null  float64\n",
      " 16  initial_list_status          855502 non-null  object \n",
      " 17  inq_last_6mths               855502 non-null  float64\n",
      " 18  installment                  855502 non-null  float64\n",
      " 19  int_rate                     855502 non-null  float64\n",
      " 20  issue_d                      855502 non-null  object \n",
      " 21  last_credit_pull_d           855502 non-null  object \n",
      " 22  last_pymnt_amnt              855502 non-null  float64\n",
      " 23  last_pymnt_d                 855502 non-null  object \n",
      " 24  loan_amnt                    855502 non-null  int64  \n",
      " 25  loan_status                  855502 non-null  object \n",
      " 26  member_id                    855502 non-null  float64\n",
      " 27  mths_since_last_delinq       855502 non-null  float64\n",
      " 28  mths_since_last_major_derog  855502 non-null  float64\n",
      " 29  mths_since_last_record       855502 non-null  float64\n",
      " 30  next_pymnt_d                 855502 non-null  object \n",
      " 31  open_acc                     855502 non-null  float64\n",
      " 32  out_prncp                    855502 non-null  float64\n",
      " 33  out_prncp_inv                855502 non-null  float64\n",
      " 34  policy_code                  855502 non-null  int64  \n",
      " 35  pub_rec                      855502 non-null  float64\n",
      " 36  purpose                      855502 non-null  object \n",
      " 37  pymnt_plan                   855502 non-null  object \n",
      " 38  recoveries                   855502 non-null  float64\n",
      " 39  revol_bal                    855502 non-null  int64  \n",
      " 40  revol_util                   855502 non-null  float64\n",
      " 41  sub_grade                    855502 non-null  object \n",
      " 42  term                         855502 non-null  object \n",
      " 43  title                        855502 non-null  object \n",
      " 44  total_acc                    855502 non-null  float64\n",
      " 45  total_pymnt                  855502 non-null  float64\n",
      " 46  total_pymnt_inv              855502 non-null  float64\n",
      " 47  total_rec_int                855502 non-null  float64\n",
      " 48  total_rec_late_fee           855502 non-null  float64\n",
      " 49  total_rec_prncp              855502 non-null  float64\n",
      " 50  url                          855502 non-null  float64\n",
      "dtypes: float64(28), int64(5), object(18)\n",
      "memory usage: 332.9+ MB\n"
     ]
    }
   ],
   "source": [
    "df.info()"
   ]
  },
  {
   "cell_type": "code",
   "execution_count": 5,
   "metadata": {},
   "outputs": [
    {
     "data": {
      "text/plain": [
       "array(['Current', 'Charged Off', 'Fully Paid', 'Late (31-120 days)',\n",
       "       'In Grace Period', 'Late (16-30 days)', 'Default'], dtype=object)"
      ]
     },
     "execution_count": 5,
     "metadata": {},
     "output_type": "execute_result"
    }
   ],
   "source": [
    "df['loan_status']\n",
    "df.loan_status.unique()"
   ]
  },
  {
   "cell_type": "code",
   "execution_count": 6,
   "metadata": {},
   "outputs": [],
   "source": [
    "df1 = pd.DataFrame()\n",
    "values = ['Current','Late (31-120 days)','In Grace Period', 'Late (16-30 days)', 'Default']\n",
    "\n",
    "a=[]\n",
    "b=[]\n",
    "for i, row in df.iterrows():\n",
    "    a.append(np.where(df.loan_status.loc[i] in values, \"Current\",\"Closed\"))\n",
    "    b.append(np.where(df.loan_status.loc[i] in values, \"Bad\",\"Good\"))\n",
    "    \n",
    "a= pd.DataFrame(a)\n",
    "b=pd.DataFrame(b)\n",
    "df1= pd.concat([df1, a], axis=1) \n",
    "df1= df1.rename(columns={0: \"loan_status_type\"})\n",
    "df1=pd.concat([df1, b], axis=1)\n",
    "df1= df1.rename(columns={0: \"loan_status_standing\"})"
   ]
  },
  {
   "cell_type": "code",
   "execution_count": 7,
   "metadata": {},
   "outputs": [
    {
     "data": {
      "text/plain": [
       "Good    648111\n",
       "Bad     207391\n",
       "Name: loan_status_standing, dtype: int64"
      ]
     },
     "execution_count": 7,
     "metadata": {},
     "output_type": "execute_result"
    }
   ],
   "source": [
    "df1['loan_status_type'].value_counts()\n",
    "df1['loan_status_standing'].value_counts()"
   ]
  },
  {
   "cell_type": "code",
   "execution_count": 8,
   "metadata": {},
   "outputs": [
    {
     "data": {
      "text/html": [
       "<div>\n",
       "<style scoped>\n",
       "    .dataframe tbody tr th:only-of-type {\n",
       "        vertical-align: middle;\n",
       "    }\n",
       "\n",
       "    .dataframe tbody tr th {\n",
       "        vertical-align: top;\n",
       "    }\n",
       "\n",
       "    .dataframe thead th {\n",
       "        text-align: right;\n",
       "    }\n",
       "</style>\n",
       "<table border=\"1\" class=\"dataframe\">\n",
       "  <thead>\n",
       "    <tr style=\"text-align: right;\">\n",
       "      <th></th>\n",
       "      <th>loan_status_type</th>\n",
       "      <th>loan_status_standing</th>\n",
       "    </tr>\n",
       "  </thead>\n",
       "  <tbody>\n",
       "    <tr>\n",
       "      <th>0</th>\n",
       "      <td>Current</td>\n",
       "      <td>Bad</td>\n",
       "    </tr>\n",
       "    <tr>\n",
       "      <th>1</th>\n",
       "      <td>Closed</td>\n",
       "      <td>Good</td>\n",
       "    </tr>\n",
       "    <tr>\n",
       "      <th>2</th>\n",
       "      <td>Closed</td>\n",
       "      <td>Good</td>\n",
       "    </tr>\n",
       "    <tr>\n",
       "      <th>3</th>\n",
       "      <td>Closed</td>\n",
       "      <td>Good</td>\n",
       "    </tr>\n",
       "    <tr>\n",
       "      <th>4</th>\n",
       "      <td>Closed</td>\n",
       "      <td>Good</td>\n",
       "    </tr>\n",
       "  </tbody>\n",
       "</table>\n",
       "</div>"
      ],
      "text/plain": [
       "  loan_status_type loan_status_standing\n",
       "0          Current                  Bad\n",
       "1           Closed                 Good\n",
       "2           Closed                 Good\n",
       "3           Closed                 Good\n",
       "4           Closed                 Good"
      ]
     },
     "execution_count": 8,
     "metadata": {},
     "output_type": "execute_result"
    }
   ],
   "source": [
    "df1.head()"
   ]
  },
  {
   "cell_type": "code",
   "execution_count": 9,
   "metadata": {},
   "outputs": [
    {
     "data": {
      "text/plain": [
       "0    Sep-2016\n",
       "1    Sep-2016\n",
       "2    Sep-2016\n",
       "3    Sep-2016\n",
       "4    Sep-2016\n",
       "Name: issue_d, dtype: object"
      ]
     },
     "execution_count": 9,
     "metadata": {},
     "output_type": "execute_result"
    }
   ],
   "source": [
    "df['issue_d'].head()"
   ]
  },
  {
   "cell_type": "code",
   "execution_count": 10,
   "metadata": {},
   "outputs": [],
   "source": [
    "df1= pd.concat([df1, df['issue_d']], axis=1)"
   ]
  },
  {
   "cell_type": "code",
   "execution_count": 11,
   "metadata": {},
   "outputs": [
    {
     "data": {
      "text/html": [
       "<div>\n",
       "<style scoped>\n",
       "    .dataframe tbody tr th:only-of-type {\n",
       "        vertical-align: middle;\n",
       "    }\n",
       "\n",
       "    .dataframe tbody tr th {\n",
       "        vertical-align: top;\n",
       "    }\n",
       "\n",
       "    .dataframe thead th {\n",
       "        text-align: right;\n",
       "    }\n",
       "</style>\n",
       "<table border=\"1\" class=\"dataframe\">\n",
       "  <thead>\n",
       "    <tr style=\"text-align: right;\">\n",
       "      <th></th>\n",
       "      <th>loan_status_type</th>\n",
       "      <th>loan_status_standing</th>\n",
       "      <th>issue_d</th>\n",
       "    </tr>\n",
       "  </thead>\n",
       "  <tbody>\n",
       "    <tr>\n",
       "      <th>0</th>\n",
       "      <td>Current</td>\n",
       "      <td>Bad</td>\n",
       "      <td>Sep-2016</td>\n",
       "    </tr>\n",
       "    <tr>\n",
       "      <th>1</th>\n",
       "      <td>Closed</td>\n",
       "      <td>Good</td>\n",
       "      <td>Sep-2016</td>\n",
       "    </tr>\n",
       "    <tr>\n",
       "      <th>2</th>\n",
       "      <td>Closed</td>\n",
       "      <td>Good</td>\n",
       "      <td>Sep-2016</td>\n",
       "    </tr>\n",
       "    <tr>\n",
       "      <th>3</th>\n",
       "      <td>Closed</td>\n",
       "      <td>Good</td>\n",
       "      <td>Sep-2016</td>\n",
       "    </tr>\n",
       "    <tr>\n",
       "      <th>4</th>\n",
       "      <td>Closed</td>\n",
       "      <td>Good</td>\n",
       "      <td>Sep-2016</td>\n",
       "    </tr>\n",
       "  </tbody>\n",
       "</table>\n",
       "</div>"
      ],
      "text/plain": [
       "  loan_status_type loan_status_standing   issue_d\n",
       "0          Current                  Bad  Sep-2016\n",
       "1           Closed                 Good  Sep-2016\n",
       "2           Closed                 Good  Sep-2016\n",
       "3           Closed                 Good  Sep-2016\n",
       "4           Closed                 Good  Sep-2016"
      ]
     },
     "execution_count": 11,
     "metadata": {},
     "output_type": "execute_result"
    }
   ],
   "source": [
    "df1.head()"
   ]
  },
  {
   "cell_type": "code",
   "execution_count": 12,
   "metadata": {},
   "outputs": [
    {
     "data": {
      "text/html": [
       "<div>\n",
       "<style scoped>\n",
       "    .dataframe tbody tr th:only-of-type {\n",
       "        vertical-align: middle;\n",
       "    }\n",
       "\n",
       "    .dataframe tbody tr th {\n",
       "        vertical-align: top;\n",
       "    }\n",
       "\n",
       "    .dataframe thead th {\n",
       "        text-align: right;\n",
       "    }\n",
       "</style>\n",
       "<table border=\"1\" class=\"dataframe\">\n",
       "  <thead>\n",
       "    <tr style=\"text-align: right;\">\n",
       "      <th></th>\n",
       "      <th>loan_status_type</th>\n",
       "      <th>loan_status_standing</th>\n",
       "    </tr>\n",
       "  </thead>\n",
       "  <tbody>\n",
       "    <tr>\n",
       "      <th>0</th>\n",
       "      <td>Current</td>\n",
       "      <td>Bad</td>\n",
       "    </tr>\n",
       "    <tr>\n",
       "      <th>1</th>\n",
       "      <td>Closed</td>\n",
       "      <td>Good</td>\n",
       "    </tr>\n",
       "    <tr>\n",
       "      <th>2</th>\n",
       "      <td>Closed</td>\n",
       "      <td>Good</td>\n",
       "    </tr>\n",
       "    <tr>\n",
       "      <th>3</th>\n",
       "      <td>Closed</td>\n",
       "      <td>Good</td>\n",
       "    </tr>\n",
       "    <tr>\n",
       "      <th>4</th>\n",
       "      <td>Closed</td>\n",
       "      <td>Good</td>\n",
       "    </tr>\n",
       "    <tr>\n",
       "      <th>...</th>\n",
       "      <td>...</td>\n",
       "      <td>...</td>\n",
       "    </tr>\n",
       "    <tr>\n",
       "      <th>855497</th>\n",
       "      <td>Closed</td>\n",
       "      <td>Good</td>\n",
       "    </tr>\n",
       "    <tr>\n",
       "      <th>855498</th>\n",
       "      <td>Closed</td>\n",
       "      <td>Good</td>\n",
       "    </tr>\n",
       "    <tr>\n",
       "      <th>855499</th>\n",
       "      <td>Closed</td>\n",
       "      <td>Good</td>\n",
       "    </tr>\n",
       "    <tr>\n",
       "      <th>855500</th>\n",
       "      <td>Closed</td>\n",
       "      <td>Good</td>\n",
       "    </tr>\n",
       "    <tr>\n",
       "      <th>855501</th>\n",
       "      <td>Closed</td>\n",
       "      <td>Good</td>\n",
       "    </tr>\n",
       "  </tbody>\n",
       "</table>\n",
       "<p>855502 rows × 2 columns</p>\n",
       "</div>"
      ],
      "text/plain": [
       "       loan_status_type loan_status_standing\n",
       "0               Current                  Bad\n",
       "1                Closed                 Good\n",
       "2                Closed                 Good\n",
       "3                Closed                 Good\n",
       "4                Closed                 Good\n",
       "...                 ...                  ...\n",
       "855497           Closed                 Good\n",
       "855498           Closed                 Good\n",
       "855499           Closed                 Good\n",
       "855500           Closed                 Good\n",
       "855501           Closed                 Good\n",
       "\n",
       "[855502 rows x 2 columns]"
      ]
     },
     "execution_count": 12,
     "metadata": {},
     "output_type": "execute_result"
    }
   ],
   "source": [
    "df1.drop(columns=['issue_d', 'issue_d'])"
   ]
  },
  {
   "cell_type": "code",
   "execution_count": 13,
   "metadata": {},
   "outputs": [
    {
     "data": {
      "text/html": [
       "<div>\n",
       "<style scoped>\n",
       "    .dataframe tbody tr th:only-of-type {\n",
       "        vertical-align: middle;\n",
       "    }\n",
       "\n",
       "    .dataframe tbody tr th {\n",
       "        vertical-align: top;\n",
       "    }\n",
       "\n",
       "    .dataframe thead th {\n",
       "        text-align: right;\n",
       "    }\n",
       "</style>\n",
       "<table border=\"1\" class=\"dataframe\">\n",
       "  <thead>\n",
       "    <tr style=\"text-align: right;\">\n",
       "      <th></th>\n",
       "      <th>loan_status_type</th>\n",
       "      <th>loan_status_standing</th>\n",
       "      <th>issue_d</th>\n",
       "    </tr>\n",
       "  </thead>\n",
       "  <tbody>\n",
       "    <tr>\n",
       "      <th>0</th>\n",
       "      <td>Current</td>\n",
       "      <td>Bad</td>\n",
       "      <td>Sep-2016</td>\n",
       "    </tr>\n",
       "    <tr>\n",
       "      <th>1</th>\n",
       "      <td>Closed</td>\n",
       "      <td>Good</td>\n",
       "      <td>Sep-2016</td>\n",
       "    </tr>\n",
       "    <tr>\n",
       "      <th>2</th>\n",
       "      <td>Closed</td>\n",
       "      <td>Good</td>\n",
       "      <td>Sep-2016</td>\n",
       "    </tr>\n",
       "    <tr>\n",
       "      <th>3</th>\n",
       "      <td>Closed</td>\n",
       "      <td>Good</td>\n",
       "      <td>Sep-2016</td>\n",
       "    </tr>\n",
       "    <tr>\n",
       "      <th>4</th>\n",
       "      <td>Closed</td>\n",
       "      <td>Good</td>\n",
       "      <td>Sep-2016</td>\n",
       "    </tr>\n",
       "    <tr>\n",
       "      <th>...</th>\n",
       "      <td>...</td>\n",
       "      <td>...</td>\n",
       "      <td>...</td>\n",
       "    </tr>\n",
       "    <tr>\n",
       "      <th>855497</th>\n",
       "      <td>Closed</td>\n",
       "      <td>Good</td>\n",
       "      <td>Jan-2015</td>\n",
       "    </tr>\n",
       "    <tr>\n",
       "      <th>855498</th>\n",
       "      <td>Closed</td>\n",
       "      <td>Good</td>\n",
       "      <td>Jan-2015</td>\n",
       "    </tr>\n",
       "    <tr>\n",
       "      <th>855499</th>\n",
       "      <td>Closed</td>\n",
       "      <td>Good</td>\n",
       "      <td>Jan-2015</td>\n",
       "    </tr>\n",
       "    <tr>\n",
       "      <th>855500</th>\n",
       "      <td>Closed</td>\n",
       "      <td>Good</td>\n",
       "      <td>Jan-2015</td>\n",
       "    </tr>\n",
       "    <tr>\n",
       "      <th>855501</th>\n",
       "      <td>Closed</td>\n",
       "      <td>Good</td>\n",
       "      <td>Jan-2015</td>\n",
       "    </tr>\n",
       "  </tbody>\n",
       "</table>\n",
       "<p>855502 rows × 3 columns</p>\n",
       "</div>"
      ],
      "text/plain": [
       "       loan_status_type loan_status_standing   issue_d\n",
       "0               Current                  Bad  Sep-2016\n",
       "1                Closed                 Good  Sep-2016\n",
       "2                Closed                 Good  Sep-2016\n",
       "3                Closed                 Good  Sep-2016\n",
       "4                Closed                 Good  Sep-2016\n",
       "...                 ...                  ...       ...\n",
       "855497           Closed                 Good  Jan-2015\n",
       "855498           Closed                 Good  Jan-2015\n",
       "855499           Closed                 Good  Jan-2015\n",
       "855500           Closed                 Good  Jan-2015\n",
       "855501           Closed                 Good  Jan-2015\n",
       "\n",
       "[855502 rows x 3 columns]"
      ]
     },
     "execution_count": 13,
     "metadata": {},
     "output_type": "execute_result"
    }
   ],
   "source": [
    "df1"
   ]
  },
  {
   "cell_type": "code",
   "execution_count": 14,
   "metadata": {},
   "outputs": [],
   "source": [
    "df1 = df1.drop(columns=['issue_d', 'issue_d'])"
   ]
  },
  {
   "cell_type": "code",
   "execution_count": 15,
   "metadata": {},
   "outputs": [
    {
     "data": {
      "text/html": [
       "<div>\n",
       "<style scoped>\n",
       "    .dataframe tbody tr th:only-of-type {\n",
       "        vertical-align: middle;\n",
       "    }\n",
       "\n",
       "    .dataframe tbody tr th {\n",
       "        vertical-align: top;\n",
       "    }\n",
       "\n",
       "    .dataframe thead th {\n",
       "        text-align: right;\n",
       "    }\n",
       "</style>\n",
       "<table border=\"1\" class=\"dataframe\">\n",
       "  <thead>\n",
       "    <tr style=\"text-align: right;\">\n",
       "      <th></th>\n",
       "      <th>loan_status_type</th>\n",
       "      <th>loan_status_standing</th>\n",
       "    </tr>\n",
       "  </thead>\n",
       "  <tbody>\n",
       "    <tr>\n",
       "      <th>0</th>\n",
       "      <td>Current</td>\n",
       "      <td>Bad</td>\n",
       "    </tr>\n",
       "    <tr>\n",
       "      <th>1</th>\n",
       "      <td>Closed</td>\n",
       "      <td>Good</td>\n",
       "    </tr>\n",
       "    <tr>\n",
       "      <th>2</th>\n",
       "      <td>Closed</td>\n",
       "      <td>Good</td>\n",
       "    </tr>\n",
       "    <tr>\n",
       "      <th>3</th>\n",
       "      <td>Closed</td>\n",
       "      <td>Good</td>\n",
       "    </tr>\n",
       "    <tr>\n",
       "      <th>4</th>\n",
       "      <td>Closed</td>\n",
       "      <td>Good</td>\n",
       "    </tr>\n",
       "  </tbody>\n",
       "</table>\n",
       "</div>"
      ],
      "text/plain": [
       "  loan_status_type loan_status_standing\n",
       "0          Current                  Bad\n",
       "1           Closed                 Good\n",
       "2           Closed                 Good\n",
       "3           Closed                 Good\n",
       "4           Closed                 Good"
      ]
     },
     "execution_count": 15,
     "metadata": {},
     "output_type": "execute_result"
    }
   ],
   "source": [
    "df1.head()"
   ]
  },
  {
   "cell_type": "code",
   "execution_count": 16,
   "metadata": {},
   "outputs": [],
   "source": [
    "df1= pd.concat([df1, df['issue_d']], axis=1)"
   ]
  },
  {
   "cell_type": "code",
   "execution_count": 17,
   "metadata": {},
   "outputs": [
    {
     "data": {
      "text/html": [
       "<div>\n",
       "<style scoped>\n",
       "    .dataframe tbody tr th:only-of-type {\n",
       "        vertical-align: middle;\n",
       "    }\n",
       "\n",
       "    .dataframe tbody tr th {\n",
       "        vertical-align: top;\n",
       "    }\n",
       "\n",
       "    .dataframe thead th {\n",
       "        text-align: right;\n",
       "    }\n",
       "</style>\n",
       "<table border=\"1\" class=\"dataframe\">\n",
       "  <thead>\n",
       "    <tr style=\"text-align: right;\">\n",
       "      <th></th>\n",
       "      <th>loan_status_type</th>\n",
       "      <th>loan_status_standing</th>\n",
       "      <th>issue_d</th>\n",
       "    </tr>\n",
       "  </thead>\n",
       "  <tbody>\n",
       "    <tr>\n",
       "      <th>0</th>\n",
       "      <td>Current</td>\n",
       "      <td>Bad</td>\n",
       "      <td>Sep-2016</td>\n",
       "    </tr>\n",
       "    <tr>\n",
       "      <th>1</th>\n",
       "      <td>Closed</td>\n",
       "      <td>Good</td>\n",
       "      <td>Sep-2016</td>\n",
       "    </tr>\n",
       "    <tr>\n",
       "      <th>2</th>\n",
       "      <td>Closed</td>\n",
       "      <td>Good</td>\n",
       "      <td>Sep-2016</td>\n",
       "    </tr>\n",
       "    <tr>\n",
       "      <th>3</th>\n",
       "      <td>Closed</td>\n",
       "      <td>Good</td>\n",
       "      <td>Sep-2016</td>\n",
       "    </tr>\n",
       "    <tr>\n",
       "      <th>4</th>\n",
       "      <td>Closed</td>\n",
       "      <td>Good</td>\n",
       "      <td>Sep-2016</td>\n",
       "    </tr>\n",
       "    <tr>\n",
       "      <th>...</th>\n",
       "      <td>...</td>\n",
       "      <td>...</td>\n",
       "      <td>...</td>\n",
       "    </tr>\n",
       "    <tr>\n",
       "      <th>855497</th>\n",
       "      <td>Closed</td>\n",
       "      <td>Good</td>\n",
       "      <td>Jan-2015</td>\n",
       "    </tr>\n",
       "    <tr>\n",
       "      <th>855498</th>\n",
       "      <td>Closed</td>\n",
       "      <td>Good</td>\n",
       "      <td>Jan-2015</td>\n",
       "    </tr>\n",
       "    <tr>\n",
       "      <th>855499</th>\n",
       "      <td>Closed</td>\n",
       "      <td>Good</td>\n",
       "      <td>Jan-2015</td>\n",
       "    </tr>\n",
       "    <tr>\n",
       "      <th>855500</th>\n",
       "      <td>Closed</td>\n",
       "      <td>Good</td>\n",
       "      <td>Jan-2015</td>\n",
       "    </tr>\n",
       "    <tr>\n",
       "      <th>855501</th>\n",
       "      <td>Closed</td>\n",
       "      <td>Good</td>\n",
       "      <td>Jan-2015</td>\n",
       "    </tr>\n",
       "  </tbody>\n",
       "</table>\n",
       "<p>855502 rows × 3 columns</p>\n",
       "</div>"
      ],
      "text/plain": [
       "       loan_status_type loan_status_standing   issue_d\n",
       "0               Current                  Bad  Sep-2016\n",
       "1                Closed                 Good  Sep-2016\n",
       "2                Closed                 Good  Sep-2016\n",
       "3                Closed                 Good  Sep-2016\n",
       "4                Closed                 Good  Sep-2016\n",
       "...                 ...                  ...       ...\n",
       "855497           Closed                 Good  Jan-2015\n",
       "855498           Closed                 Good  Jan-2015\n",
       "855499           Closed                 Good  Jan-2015\n",
       "855500           Closed                 Good  Jan-2015\n",
       "855501           Closed                 Good  Jan-2015\n",
       "\n",
       "[855502 rows x 3 columns]"
      ]
     },
     "execution_count": 17,
     "metadata": {},
     "output_type": "execute_result"
    }
   ],
   "source": [
    "df1"
   ]
  },
  {
   "cell_type": "code",
   "execution_count": 18,
   "metadata": {},
   "outputs": [
    {
     "data": {
      "text/plain": [
       "array(['Sep-2016', 'Aug-2016', 'Jul-2016', 'Jun-2016', 'May-2016',\n",
       "       'Apr-2016', 'Mar-2016', 'Feb-2016', 'Jan-2016', 'Dec-2016',\n",
       "       'Nov-2016', 'Oct-2016', 'Dec-2015', 'Nov-2015', 'Oct-2015',\n",
       "       'Sep-2015', 'Aug-2015', 'Jul-2015', 'Jun-2015', 'May-2015',\n",
       "       'Apr-2015', 'Mar-2015', 'Feb-2015', 'Jan-2015'], dtype=object)"
      ]
     },
     "execution_count": 18,
     "metadata": {},
     "output_type": "execute_result"
    }
   ],
   "source": [
    "df1.issue_d.unique()"
   ]
  },
  {
   "cell_type": "code",
   "execution_count": 20,
   "metadata": {},
   "outputs": [
    {
     "data": {
      "text/plain": [
       "0          7521.680000\n",
       "1          7366.250000\n",
       "2         10962.479076\n",
       "3         35770.812746\n",
       "4          2662.590238\n",
       "              ...     \n",
       "855497    11947.244045\n",
       "855498    28663.686660\n",
       "855499     5366.990000\n",
       "855500     6109.520000\n",
       "855501    23735.386335\n",
       "Name: total_pymnt, Length: 855502, dtype: float64"
      ]
     },
     "execution_count": 20,
     "metadata": {},
     "output_type": "execute_result"
    }
   ],
   "source": [
    "df.total_pymnt"
   ]
  },
  {
   "cell_type": "code",
   "execution_count": 21,
   "metadata": {},
   "outputs": [
    {
     "data": {
      "text/plain": [
       "0         Sep-2016\n",
       "1         Sep-2016\n",
       "2         Sep-2016\n",
       "3         Sep-2016\n",
       "4         Sep-2016\n",
       "            ...   \n",
       "855497    Jan-2015\n",
       "855498    Jan-2015\n",
       "855499    Jan-2015\n",
       "855500    Jan-2015\n",
       "855501    Jan-2015\n",
       "Name: issue_d, Length: 855502, dtype: object"
      ]
     },
     "execution_count": 21,
     "metadata": {},
     "output_type": "execute_result"
    }
   ],
   "source": [
    "df.issue_d"
   ]
  },
  {
   "cell_type": "code",
   "execution_count": 22,
   "metadata": {},
   "outputs": [],
   "source": [
    "df1= pd.concat([df1, df['total_pymnt']], axis=1)"
   ]
  },
  {
   "cell_type": "code",
   "execution_count": 36,
   "metadata": {},
   "outputs": [
    {
     "data": {
      "text/html": [
       "<div>\n",
       "<style scoped>\n",
       "    .dataframe tbody tr th:only-of-type {\n",
       "        vertical-align: middle;\n",
       "    }\n",
       "\n",
       "    .dataframe tbody tr th {\n",
       "        vertical-align: top;\n",
       "    }\n",
       "\n",
       "    .dataframe thead th {\n",
       "        text-align: right;\n",
       "    }\n",
       "</style>\n",
       "<table border=\"1\" class=\"dataframe\">\n",
       "  <thead>\n",
       "    <tr style=\"text-align: right;\">\n",
       "      <th></th>\n",
       "      <th>issue_d</th>\n",
       "      <th>loan_status_type</th>\n",
       "      <th>total_pymnt</th>\n",
       "    </tr>\n",
       "  </thead>\n",
       "  <tbody>\n",
       "    <tr>\n",
       "      <th>0</th>\n",
       "      <td>Apr-2015</td>\n",
       "      <td>Closed</td>\n",
       "      <td>4.839215e+08</td>\n",
       "    </tr>\n",
       "    <tr>\n",
       "      <th>1</th>\n",
       "      <td>Apr-2015</td>\n",
       "      <td>Current</td>\n",
       "      <td>8.276653e+07</td>\n",
       "    </tr>\n",
       "    <tr>\n",
       "      <th>2</th>\n",
       "      <td>Apr-2016</td>\n",
       "      <td>Closed</td>\n",
       "      <td>3.208529e+08</td>\n",
       "    </tr>\n",
       "    <tr>\n",
       "      <th>3</th>\n",
       "      <td>Apr-2016</td>\n",
       "      <td>Current</td>\n",
       "      <td>2.030064e+08</td>\n",
       "    </tr>\n",
       "    <tr>\n",
       "      <th>4</th>\n",
       "      <td>Aug-2015</td>\n",
       "      <td>Closed</td>\n",
       "      <td>4.827409e+08</td>\n",
       "    </tr>\n",
       "  </tbody>\n",
       "</table>\n",
       "</div>"
      ],
      "text/plain": [
       "    issue_d loan_status_type   total_pymnt\n",
       "0  Apr-2015           Closed  4.839215e+08\n",
       "1  Apr-2015          Current  8.276653e+07\n",
       "2  Apr-2016           Closed  3.208529e+08\n",
       "3  Apr-2016          Current  2.030064e+08\n",
       "4  Aug-2015           Closed  4.827409e+08"
      ]
     },
     "execution_count": 36,
     "metadata": {},
     "output_type": "execute_result"
    }
   ],
   "source": [
    "df1.head()"
   ]
  },
  {
   "cell_type": "code",
   "execution_count": 35,
   "metadata": {},
   "outputs": [],
   "source": [
    "df1 = df1.groupby(['issue_d', 'loan_status_type']).sum().reset_index()"
   ]
  },
  {
   "cell_type": "code",
   "execution_count": 40,
   "metadata": {},
   "outputs": [
    {
     "data": {
      "text/plain": [
       "<matplotlib.axes._subplots.AxesSubplot at 0x16593b2f808>"
      ]
     },
     "execution_count": 40,
     "metadata": {},
     "output_type": "execute_result"
    },
    {
     "data": {
      "image/png": "[encoded data removed]",
      "text/plain": [
       "<Figure size 1080x576 with 1 Axes>"
      ]
     },
     "metadata": {
      "needs_background": "light"
     },
     "output_type": "display_data"
    }
   ],
   "source": [
    "df1.pivot(index = 'issue_d', columns = 'loan_status_type', values = 'total_pymnt').plot(kind = 'bar', figsize = (15,8))"
   ]
  },
  {
   "cell_type": "code",
   "execution_count": null,
   "metadata": {},
   "outputs": [],
   "source": []
  }
 ],
 "metadata": {
  "kernelspec": {
   "display_name": "Python 3",
   "language": "python",
   "name": "python3"
  },
  "language_info": {
   "codemirror_mode": {
    "name": "ipython",
    "version": 3
   },
   "file_extension": ".py",
   "mimetype": "text/x-python",
   "name": "python",
   "nbconvert_exporter": "python",
   "pygments_lexer": "ipython3",
   "version": "3.7.6"
  }
 },
 "nbformat": 4,
 "nbformat_minor": 4
}
